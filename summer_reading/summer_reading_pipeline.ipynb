{
 "cells": [
  {
   "cell_type": "code",
   "execution_count": 4,
   "id": "10925a40-894a-4865-8ff4-4d596d25723a",
   "metadata": {},
   "outputs": [],
   "source": [
    "import pandas as pd\n",
    "import numpy as np\n",
    "import matplotlib.pyplot as plt\n",
    "from collections import defaultdict\n",
    "from bitdotio_pandas import BitDotIOPandas\n",
    "import seaborn as sns\n",
    "import os\n",
    "sns.set(font_scale=1.5, style='whitegrid')\n",
    "plt.rcParams[\"font.family\"] = \"sans serif\"\n",
    "\n",
    "RDATA = os.path.join('data', 'raw')\n",
    "PDATA = os.path.join('data', 'processed')\n",
    "\n",
    "# Style configuration\n",
    "COLORS = [\n",
    "    '#0059ff',\n",
    "    '#fdbd28',\n",
    "    '#28D9AA',\n",
    "    '#EE5149',\n",
    "    '#060F41',\n",
    "    '#788995',\n",
    "    '#FF69B4',\n",
    "    '#7F00FF',\n",
    "]\n",
    "GREY = '#788995'\n",
    "DARK_GREY = '#060F41'\n",
    "BLUE = '#0059ff'\n",
    "DBLUE = '#060F41'\n",
    "GOLD = '#fdbd28'\n",
    "GREEN = '#28D9AA'\n",
    "RED = '#EE5149'\n",
    "BLACK = '#000000'\n",
    "WHITE = '#FFFFFF'\n",
    "LINEWIDTH = 5\n",
    "LINESPACING = 1.25\n",
    "FS_SUPTITLE = 30\n",
    "FS_CAPTION = 24\n",
    "FS_LABEL = 24\n",
    "FS_FOOTNOTE = 20"
   ]
  },
  {
   "cell_type": "markdown",
   "id": "9abd171a-bf59-421c-a233-cb67a5c12aaa",
   "metadata": {},
   "source": [
    "## Part 1: Summer Reading Pipeline\n",
    "\n",
    "Caution: this dataset is too large to download on Deepnote, but is provided here for reference or for download to use locally. \n",
    "\n",
    "The purpose of this notebook is to download raw checkout records from the Seattle Public Library and publish prepared datasets back to bit.io."
   ]
  },
  {
   "cell_type": "markdown",
   "id": "c3d8c4ba-74b8-4d63-8618-3deb471cc3dd",
   "metadata": {},
   "source": [
    "### Download data from SPL"
   ]
  },
  {
   "cell_type": "code",
   "execution_count": 7,
   "id": "7fcbfa9a-09ab-44e1-a843-bc6d8c97f6ca",
   "metadata": {},
   "outputs": [],
   "source": [
    "for directory in ['data/raw', 'data/processed']:\n",
    "    if not os.path.exists(directory):\n",
    "        os.makedirs(directory)"
   ]
  },
  {
   "cell_type": "code",
   "execution_count": 8,
   "id": "2338ff4a-56bc-483e-b37f-31f0a9fcd3dc",
   "metadata": {},
   "outputs": [
    {
     "name": "stdout",
     "output_type": "stream",
     "text": [
      "  % Total    % Received % Xferd  Average Speed   Time    Time     Time  Current\n",
      "                                 Dload  Upload   Total   Spent    Left  Speed\n",
      "100 7913M    0 7913M    0     0  5716k      0 --:--:--  0:23:37 --:--:-- 5006k0     0  4566k      0 --:--:--  0:00:04 --:--:-- 4565k   0 --:--:--  0:00:20 --:--:-- 4491k  0  5949k      0 --:--:--  0:00:57 --:--:-- 6478k:09 --:--:-- 5922k 0     0  5965k      0 --:--:--  0:01:10 --:--:-- 6023k   0  5898k      0 --:--:--  0:01:29 --:--:-- 4882k993k      0 --:--:--  0:02:30 --:--:-- 3047k    0  4761k      0 --:--:--  0:02:52 --:--:-- 4626k-:--:-- 4827k9k      0 --:--:--  0:03:57 --:--:-- 4599k0  4576k      0 --:--:--  0:04:02 --:--:-- 4460k 4583k      0 --:--:--  0:04:04 --:--:-- 4900k      0 --:--:--  0:04:16 --:--:-- 5659kM    0     0  4588k      0 --:--:--  0:04:23 --:--:-- 3938k:--:--  0:04:32 --:--:-- 5685k --:--:--  0:05:06 --:--:-- 4269k 0  4759k      0 --:--:--  0:05:59 --:--:-- 5638k--:--:--  0:06:35 --:--:-- 5136kM    0     0  4821k      0 --:--:--  0:06:45 --:--:-- 5656k      0 --:--:--  0:06:56 --:--:-- 7133k  0     0  4927k      0 --:--:--  0:07:08 --:--:-- 7160k0  4995k      0 --:--:--  0:07:21 --:--:-- 7202k0  5095k      0 --:--:--  0:07:46 --:--:-- 6078k--:--  0:07:51 --:--:-- 5512k    0  5145k      0 --:--:--  0:08:10 --:--:-- 6146k   0     0  5204k      0 --:--:--  0:08:29 --:--:-- 6882k      0 --:--:--  0:08:45 --:--:-- 5416k--  0:09:18 --:--:-- 5809k5211k      0 --:--:--  0:09:30 --:--:-- 6530k 5230k      0 --:--:--  0:09:45 --:--:-- 5912k --:--:--  0:10:58 --:--:-- 5717k0     0  5257k      0 --:--:--  0:10:59 --:--:-- 6318k5267k      0 --:--:--  0:11:14 --:--:-- 5223k 0     0  5283k      0 --:--:--  0:11:21 --:--:-- 7095k     0  5279k      0 --:--:--  0:11:39 --:--:-- 4206k318k      0 --:--:--  0:12:03 --:--:-- 6712k    0     0  5320k      0 --:--:--  0:12:04 --:--:-- 6816k   0  5359k      0 --:--:--  0:12:20 --:--:-- 7259k902M    0     0  5369k      0 --:--:--  0:12:24 --:--:-- 7304k 0     0  5372k      0 --:--:--  0:12:25 --:--:-- 7307kM    0     0  5379k      0 --:--:--  0:12:28 --:--:-- 7301k  0:13:00 --:--:-- 7326k   0  5472k      0 --:--:--  0:13:06 --:--:-- 7285k     0  5484k      0 --:--:--  0:13:13 --:--:-- 6785k     0  5502k      0 --:--:--  0:13:21 --:--:-- 7212k     0  5542k      0 --:--:--  0:13:40 --:--:-- 7291k      0 --:--:--  0:13:41 --:--:-- 7280k      0 --:--:--  0:13:50 --:--:-- 7220k    0     0  5576k      0 --:--:--  0:13:57 --:--:-- 7241k    0     0  5607k      0 --:--:--  0:14:21 --:--:-- 7067k    0 --:--:--  0:14:54 --:--:-- 7131k650k      0 --:--:--  0:15:23 --:--:-- 3597k3M    0     0  5638k      0 --:--:--  0:15:32 --:--:-- 4290k 0  5624k      0 --:--:--  0:15:42 --:--:-- 4900k 0:15:55 --:--:-- 4305k5637k62M    0     0  5557k      0 --:--:--  0:16:28 --:--:-- 3905k 0 5369M    0     0  5552k      0 --:--:--  0:16:30 --:--:-- 3902k 0     0  5539k      0 --:--:--  0:16:36 --:--:-- 3056k 0 5547M    0     0  5487k      0 --:--:--  0:17:15 --:--:-- 5185k 0 5552M    0     0  5486k      0 --:--:--  0:17:16 --:--:-- 5296k    0  5482k      0 --:--:--  0:17:25 --:--:-- 4805k     0  5479k      0 --:--:--  0:17:36 --:--:-- 6169kM    0     0  5490k      0 --:--:--  0:17:48 --:--:-- 6405k5502k      0 --:--:--  0:18:01 --:--:-- 6414k15k      0 --:--:--  0:18:17 --:--:-- 6320k    0 --:--:--  0:18:55 --:--:-- 5091k    0     0  5585k      0 --:--:--  0:19:10 --:--:-- 10.2M 0  5655k      0 --:--:--  0:19:48 --:--:-- 6597k   0     0  5660k      0 --:--:--  0:20:28 --:--:-- 5207kk      0 --:--:--  0:20:51 --:--:-- 5483k  5655k      0 --:--:--  0:21:22 --:--:-- 5586k0  5656k      0 --:--:--  0:21:33 --:--:-- 6437k5658k      0 --:--:--  0:21:36 --:--:-- 6584k   0     0  5661k      0 --:--:--  0:21:40 --:--:-- 6600k 0     0  5662k      0 --:--:--  0:21:42 --:--:-- 6638k0  5672k      0 --:--:--  0:21:54 --:--:-- 6693k  0  5672k      0 --:--:--  0:21:55 --:--:-- 6705k--:--:--  0:22:25 --:--:-- 7132k   0     0  5714k      0 --:--:--  0:22:50 --:--:-- 6634k    0     0  5718k      0 --:--:--  0:23:09 --:--:-- 6053k  0:23:21 --:--:-- 5438k5720k      0 --:--:--  0:23:25 --:--:-- 6240k-:--:--  0:23:30 --:--:-- 5761k\n"
     ]
    }
   ],
   "source": [
    "# This step will take a while, the raw file is ~8.3 GB\n",
    "! curl -o data/raw/checkouts_by_title.csv \"https://data.seattle.gov/api/views/tmmm-ytt6/rows.csv?accessType=DOWNLOAD\""
   ]
  },
  {
   "cell_type": "markdown",
   "id": "75dc00e6-811d-4a5d-a380-e52a4f1790f9",
   "metadata": {},
   "source": [
    "### Load data into pandas"
   ]
  },
  {
   "cell_type": "code",
   "execution_count": 9,
   "id": "cc1fd822-571a-4941-93f7-cb0401f35269",
   "metadata": {},
   "outputs": [
    {
     "data": {
      "text/html": [
       "<div>\n",
       "<style scoped>\n",
       "    .dataframe tbody tr th:only-of-type {\n",
       "        vertical-align: middle;\n",
       "    }\n",
       "\n",
       "    .dataframe tbody tr th {\n",
       "        vertical-align: top;\n",
       "    }\n",
       "\n",
       "    .dataframe thead th {\n",
       "        text-align: right;\n",
       "    }\n",
       "</style>\n",
       "<table border=\"1\" class=\"dataframe\">\n",
       "  <thead>\n",
       "    <tr style=\"text-align: right;\">\n",
       "      <th></th>\n",
       "      <th>UsageClass</th>\n",
       "      <th>CheckoutType</th>\n",
       "      <th>MaterialType</th>\n",
       "      <th>CheckoutYear</th>\n",
       "      <th>CheckoutMonth</th>\n",
       "      <th>Checkouts</th>\n",
       "      <th>Title</th>\n",
       "      <th>Creator</th>\n",
       "      <th>Subjects</th>\n",
       "      <th>Publisher</th>\n",
       "      <th>PublicationYear</th>\n",
       "    </tr>\n",
       "  </thead>\n",
       "  <tbody>\n",
       "    <tr>\n",
       "      <th>0</th>\n",
       "      <td>Physical</td>\n",
       "      <td>Horizon</td>\n",
       "      <td>BOOK</td>\n",
       "      <td>2008</td>\n",
       "      <td>12</td>\n",
       "      <td>1</td>\n",
       "      <td>The dream : how I learned the risks and reward...</td>\n",
       "      <td>Chahal, Gurbaksh</td>\n",
       "      <td>Success in business, Entrepreneurship, Interne...</td>\n",
       "      <td>Palgrave Macmillan,</td>\n",
       "      <td>2008.</td>\n",
       "    </tr>\n",
       "    <tr>\n",
       "      <th>1</th>\n",
       "      <td>Physical</td>\n",
       "      <td>Horizon</td>\n",
       "      <td>BOOK</td>\n",
       "      <td>2008</td>\n",
       "      <td>12</td>\n",
       "      <td>1</td>\n",
       "      <td>Vim vinegar</td>\n",
       "      <td>NaN</td>\n",
       "      <td>Vinegar, Cookery Vinegar, House cleaning</td>\n",
       "      <td>NaN</td>\n",
       "      <td>NaN</td>\n",
       "    </tr>\n",
       "    <tr>\n",
       "      <th>2</th>\n",
       "      <td>Physical</td>\n",
       "      <td>Horizon</td>\n",
       "      <td>BOOK</td>\n",
       "      <td>2008</td>\n",
       "      <td>12</td>\n",
       "      <td>1</td>\n",
       "      <td>biology of violence how understanding the brai...</td>\n",
       "      <td>NaN</td>\n",
       "      <td>Brain chemistry, Violence Physiological aspect...</td>\n",
       "      <td>NaN</td>\n",
       "      <td>NaN</td>\n",
       "    </tr>\n",
       "    <tr>\n",
       "      <th>3</th>\n",
       "      <td>Physical</td>\n",
       "      <td>Horizon</td>\n",
       "      <td>BOOK</td>\n",
       "      <td>2008</td>\n",
       "      <td>12</td>\n",
       "      <td>2</td>\n",
       "      <td>Courage the joy of living dangerously</td>\n",
       "      <td>NaN</td>\n",
       "      <td>Courage Religious aspects</td>\n",
       "      <td>NaN</td>\n",
       "      <td>NaN</td>\n",
       "    </tr>\n",
       "    <tr>\n",
       "      <th>4</th>\n",
       "      <td>Physical</td>\n",
       "      <td>Horizon</td>\n",
       "      <td>BOOK</td>\n",
       "      <td>2008</td>\n",
       "      <td>12</td>\n",
       "      <td>1</td>\n",
       "      <td>Cherries in the snow a novel of lust love loss...</td>\n",
       "      <td>NaN</td>\n",
       "      <td>Love stories, Loss Psychology Fiction, Female ...</td>\n",
       "      <td>NaN</td>\n",
       "      <td>NaN</td>\n",
       "    </tr>\n",
       "  </tbody>\n",
       "</table>\n",
       "</div>"
      ],
      "text/plain": [
       "  UsageClass CheckoutType MaterialType  CheckoutYear  CheckoutMonth  \\\n",
       "0   Physical      Horizon         BOOK          2008             12   \n",
       "1   Physical      Horizon         BOOK          2008             12   \n",
       "2   Physical      Horizon         BOOK          2008             12   \n",
       "3   Physical      Horizon         BOOK          2008             12   \n",
       "4   Physical      Horizon         BOOK          2008             12   \n",
       "\n",
       "   Checkouts                                              Title  \\\n",
       "0          1  The dream : how I learned the risks and reward...   \n",
       "1          1                                        Vim vinegar   \n",
       "2          1  biology of violence how understanding the brai...   \n",
       "3          2              Courage the joy of living dangerously   \n",
       "4          1  Cherries in the snow a novel of lust love loss...   \n",
       "\n",
       "            Creator                                           Subjects  \\\n",
       "0  Chahal, Gurbaksh  Success in business, Entrepreneurship, Interne...   \n",
       "1               NaN           Vinegar, Cookery Vinegar, House cleaning   \n",
       "2               NaN  Brain chemistry, Violence Physiological aspect...   \n",
       "3               NaN                          Courage Religious aspects   \n",
       "4               NaN  Love stories, Loss Psychology Fiction, Female ...   \n",
       "\n",
       "             Publisher PublicationYear  \n",
       "0  Palgrave Macmillan,           2008.  \n",
       "1                  NaN             NaN  \n",
       "2                  NaN             NaN  \n",
       "3                  NaN             NaN  \n",
       "4                  NaN             NaN  "
      ]
     },
     "execution_count": 9,
     "metadata": {},
     "output_type": "execute_result"
    }
   ],
   "source": [
    "df = pd.read_csv(os.path.join(RDATA, 'checkouts_by_title.csv'))\n",
    "df.head()"
   ]
  },
  {
   "cell_type": "markdown",
   "id": "48aab99f-02bc-497b-b9c6-7e645768e4a0",
   "metadata": {},
   "source": [
    "### Filtering the data  \n",
    "\n",
    "I will look at the last ~5 years of ebook and audiobook checkouts."
   ]
  },
  {
   "cell_type": "code",
   "execution_count": null,
   "id": "8c8f53d6-a857-41a0-96a1-bd6154db680c",
   "metadata": {},
   "outputs": [],
   "source": [
    "df = df.loc[(df['MaterialType'].isin(['EBOOK', 'AUDIOBOOK'])) & (df['CheckoutYear'] >= 2016)].copy()\n",
    "df.head()"
   ]
  },
  {
   "cell_type": "markdown",
   "id": "d91a0505-4f1e-4897-837b-a1273cc30d5e",
   "metadata": {},
   "source": [
    "### Getting the top subjects  \n",
    "\n",
    "Each title can have many subject labeles. I will find the most popular subject labels for both ebooks and audiobooks. "
   ]
  },
  {
   "cell_type": "code",
   "execution_count": null,
   "id": "5a6e5dcd-7695-464a-9975-b7ac2dc9ff79",
   "metadata": {},
   "outputs": [],
   "source": [
    "# Count subjects and map subjects to rows, this is crude/slow but works, could be parallelized easily \n",
    "subject_counts_ab = defaultdict(int)\n",
    "subject_counts_eb = defaultdict(int)\n",
    "\n",
    "i = 0\n",
    "for idx, row in df.iterrows():\n",
    "    if isinstance(row.Subjects, str):\n",
    "        temp_subjects = row.Subjects.split(', ')\n",
    "        for subject in temp_subjects:\n",
    "            if row.MaterialType == 'EBOOK':\n",
    "                subject_counts_eb[subject] += row.Checkouts\n",
    "            elif row.MaterialType == 'AUDIOBOOK':\n",
    "                subject_counts_ab[subject] += row.Checkouts\n",
    "    i += 1\n",
    "    if i % 1000000 == 0:\n",
    "        print(f'{100*i/df.shape[0]:.3f}%')"
   ]
  },
  {
   "cell_type": "code",
   "execution_count": null,
   "id": "7b3f94c0-44ce-4b4d-aab1-6715766567a3",
   "metadata": {},
   "outputs": [],
   "source": [
    "# Construct series with subject counts\n",
    "sca_series = pd.Series(subject_counts_ab)\n",
    "sce_series = pd.Series(subject_counts_eb)"
   ]
  },
  {
   "cell_type": "code",
   "execution_count": null,
   "id": "cab6d521-8813-46d6-9900-bb7269080450",
   "metadata": {},
   "outputs": [],
   "source": [
    "# View top subjects for audio books\n",
    "top_subjects_a = list(sca_series.sort_values(ascending=False).iloc[:15].index)\n",
    "top_subjects_a"
   ]
  },
  {
   "cell_type": "code",
   "execution_count": null,
   "id": "e57a6630-cca2-47b0-86e1-dce873e920a8",
   "metadata": {},
   "outputs": [],
   "source": [
    "# View top subjects for e-books\n",
    "top_subjects_e = list(sce_series.sort_values(ascending=False).iloc[:15].index)\n",
    "top_subjects_e"
   ]
  },
  {
   "cell_type": "code",
   "execution_count": null,
   "id": "adf95470-4477-4cb9-98b6-8149eb2c69d5",
   "metadata": {},
   "outputs": [],
   "source": [
    "# Get top subjects across both\n",
    "top_subjects = set(top_subjects_a).intersection(top_subjects_e)\n",
    "top_subjects"
   ]
  },
  {
   "cell_type": "code",
   "execution_count": null,
   "id": "116e4cc4-2e82-4a38-9325-0a63dfc2cd4a",
   "metadata": {},
   "outputs": [],
   "source": [
    "# Create convenience columns for top subjects of interest, further denormalizing the dataset\n",
    "for subject in top_subjects:\n",
    "    df[subject] = df['Subjects'].str.contains(subject)\n",
    "    \n",
    "# Drop unneeded columns and clean up column names\n",
    "df = df.drop(columns=['UsageClass', 'CheckoutType'])\n",
    "df.columns = [col.lower() for col in df.columns]\n",
    "df = df.rename(columns = {'materialtype': 'material_type',\n",
    "                          'checkoutyear': 'checkout_year',\n",
    "                          'checkoutmonth': 'checkout_month',\n",
    "                          'publicationyear': 'publication_year',\n",
    "                          'juvenile fiction': 'juvenile_fiction',\n",
    "                          'biography & autobiography': 'biography_autobiography',\n",
    "                          'science fiction': 'science_fiction',\n",
    "                          'historical fiction': 'historical_fiction'})\n",
    "df.head()"
   ]
  },
  {
   "cell_type": "code",
   "execution_count": null,
   "id": "d8dbb727-b37c-4b62-8a1f-76edc3d1d83e",
   "metadata": {},
   "outputs": [],
   "source": [
    "# Split up the audiobook and ebook tables\n",
    "df = df.drop(columns='material_type')\n",
    "dfa = df.loc[df['material_type'] == 'AUDIOBOOK'].copy()\n",
    "dfe = df.loc[df['material_type'] == 'EBOOK'].copy()"
   ]
  },
  {
   "cell_type": "markdown",
   "id": "ebe29540-db08-40b0-9723-614466aa2057",
   "metadata": {},
   "source": [
    "### Store the cleaned-up data"
   ]
  },
  {
   "cell_type": "markdown",
   "id": "00cd1d12-398b-4fa0-a952-94270f4ebce8",
   "metadata": {},
   "source": [
    "To get an API key to connect to bit.io, go [here](https://bit.io/bitdotio/seattle_library) (sign up for a free account if needed, and click \"connect\" above the data preview)."
   ]
  },
  {
   "cell_type": "code",
   "execution_count": null,
   "id": "4ae8f922-32ee-4650-b55a-56d75a07062c",
   "metadata": {},
   "outputs": [],
   "source": [
    "# Create connection to bit.io, you will need your own API key to connect\n",
    "bpd = BitDotIOPandas(username=\"bitdotio\", repo=\"seattle_library\")"
   ]
  },
  {
   "cell_type": "code",
   "execution_count": null,
   "id": "60f3cdc7-397b-4816-9594-02d582cbc1f8",
   "metadata": {},
   "outputs": [],
   "source": [
    "# Upload audiobook records in chunks, if you'd like to write to bit.io you'll need to point this at a repo that you can write to\n",
    "if 'audiobook_checkouts_by_title_test' in bpd.list_tables():\n",
    "    bpd.delete_table('audiobook_checkouts_by_title_test')\n",
    "bpd.to_table(dfa, 'audiobook_checkouts_by_title_test', chunksize=50000)"
   ]
  },
  {
   "cell_type": "code",
   "execution_count": null,
   "id": "aa95a406-6fec-418f-99c6-e40cb761310d",
   "metadata": {},
   "outputs": [],
   "source": [
    "# Upload audiobook records in chunks, if you'd like to write to bit.io you'll need to point this at a repo that you can write to\n",
    "if 'ebook_checkouts_by_title_test' in bpd.list_tables():\n",
    "    bpd.delete_table('ebook_checkouts_by_title_test')\n",
    "bpd.to_table(dfe, 'ebook_checkouts_by_title_test', chunksize=50000)"
   ]
  },
  {
   "cell_type": "markdown",
   "id": "077381d2-2c08-4e0a-9be4-6bcad2035e77",
   "metadata": {},
   "source": [
    "### Next, we continue our work in summer_reading_analysis.ipynb"
   ]
  }
 ],
 "metadata": {
  "kernelspec": {
   "display_name": "sb",
   "language": "python",
   "name": "sb"
  },
  "language_info": {
   "codemirror_mode": {
    "name": "ipython",
    "version": 3
   },
   "file_extension": ".py",
   "mimetype": "text/x-python",
   "name": "python",
   "nbconvert_exporter": "python",
   "pygments_lexer": "ipython3",
   "version": "3.9.4"
  }
 },
 "nbformat": 4,
 "nbformat_minor": 5
}
